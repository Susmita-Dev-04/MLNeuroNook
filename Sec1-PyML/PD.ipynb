{
 "cells": [
  {
   "cell_type": "markdown",
   "id": "cbc1b3c5",
   "metadata": {},
   "source": [
    "## Pandas 📊\n",
    "### Definition\n",
    "Pandas is a powerful Python library used for data manipulation and analysis. It provides two main data structures:\n",
    "\n",
    "- Series → 1D labeled array\n",
    "\n",
    "- DataFrame → 2D labeled table of rows and columns\n",
    "\n",
    "### Why Pandas?\n",
    "\n",
    "Easy to handle large datasets\n",
    "\n",
    "Supports multiple file formats (CSV, Excel, SQL, JSON, etc.)\n",
    "\n",
    "Built-in methods for filtering, grouping, merging, reshaping data"
   ]
  },
  {
   "cell_type": "code",
   "execution_count": 16,
   "id": "b5159f2f",
   "metadata": {},
   "outputs": [],
   "source": [
    "#Import pandas\n",
    "import pandas as pd\n"
   ]
  },
  {
   "cell_type": "markdown",
   "id": "0dc28d07",
   "metadata": {},
   "source": [
    "## Creating a Series"
   ]
  },
  {
   "cell_type": "code",
   "execution_count": 17,
   "id": "cbdff742",
   "metadata": {},
   "outputs": [
    {
     "name": "stdout",
     "output_type": "stream",
     "text": [
      "a    10\n",
      "b    20\n",
      "c    30\n",
      "d    40\n",
      "dtype: int64\n"
     ]
    }
   ],
   "source": [
    "import pandas as pd\n",
    "\n",
    "# From a list\n",
    "data = [10, 20, 30, 40]\n",
    "series = pd.Series(data, index=['a', 'b', 'c', 'd'])\n",
    "print(series)\n"
   ]
  },
  {
   "cell_type": "markdown",
   "id": "da313b83",
   "metadata": {},
   "source": [
    "## Creating a DataFrame"
   ]
  },
  {
   "cell_type": "code",
   "execution_count": 19,
   "id": "92a8f1b3",
   "metadata": {},
   "outputs": [
    {
     "name": "stdout",
     "output_type": "stream",
     "text": [
      "      Name  Age       City\n",
      "0    Alice   25      Delhi\n",
      "1      Bob   30     Mumbai\n",
      "2  Charlie   35  Bangalore\n"
     ]
    }
   ],
   "source": [
    "# From dictionary\n",
    "data = {\n",
    "    'Name': ['Alice', 'Bob', 'Charlie'],\n",
    "    'Age': [25, 30, 35],\n",
    "    'City': ['Delhi', 'Mumbai', 'Bangalore']\n",
    "}\n",
    "df = pd.DataFrame(data)\n",
    "print(df)\n"
   ]
  },
  {
   "cell_type": "markdown",
   "id": "05869d29",
   "metadata": {},
   "source": [
    "## Reading & Writing Files"
   ]
  },
  {
   "cell_type": "code",
   "execution_count": 21,
   "id": "35ec9b8c",
   "metadata": {},
   "outputs": [
    {
     "name": "stdout",
     "output_type": "stream",
     "text": [
      "     Order ID  Amount  Profit  Quantity     Category      Sub-Category  \\\n",
      "0     B-25681    1096     658         7  Electronics  Electronic Games   \n",
      "1     B-26055    5729      64        14    Furniture            Chairs   \n",
      "2     B-25955    2927     146         8    Furniture         Bookcases   \n",
      "3     B-26093    2847     712         8  Electronics          Printers   \n",
      "4     B-25602    2617    1151         4  Electronics            Phones   \n",
      "...       ...     ...     ...       ...          ...               ...   \n",
      "1495  B-25700       7      -3         2     Clothing       Hankerchief   \n",
      "1496  B-25757    3151     -35         7     Clothing          Trousers   \n",
      "1497  B-25973    4141    1698        13  Electronics          Printers   \n",
      "1498  B-25698       7      -2         1     Clothing       Hankerchief   \n",
      "1499  B-25993    4363     305         5    Furniture            Tables   \n",
      "\n",
      "      PaymentMode  \n",
      "0             COD  \n",
      "1             EMI  \n",
      "2             EMI  \n",
      "3     Credit Card  \n",
      "4     Credit Card  \n",
      "...           ...  \n",
      "1495          COD  \n",
      "1496          EMI  \n",
      "1497          COD  \n",
      "1498          COD  \n",
      "1499          EMI  \n",
      "\n",
      "[1500 rows x 7 columns]\n"
     ]
    }
   ],
   "source": [
    "# Reading CSV file\n",
    "df = pd.read_csv(\"D:\\DATASETS-BI\\Details.csv\")\n",
    "print(df)\n",
    "\n",
    "# Writing CSV file\n",
    "df.to_csv('output.csv', index=False)\n"
   ]
  },
  {
   "cell_type": "markdown",
   "id": "5e40d180",
   "metadata": {},
   "source": [
    "## Inbuilt pandas Function\n",
    "\n",
    "\n",
    "| Function        | Description              |\n",
    "| --------------- | ------------------------ |\n",
    "| `head()`        | Show first rows          |\n",
    "| `tail()`        | Show last rows           |\n",
    "| `info()`        | Summary of DataFrame     |\n",
    "| `describe()`    | Statistics summary       |\n",
    "| `shape`         | Number of rows & columns |\n",
    "| `drop()`        | Remove rows/columns      |\n",
    "| `sort_values()` | Sort data                |\n",
    "| `groupby()`     | Group data by a column   |\n"
   ]
  },
  {
   "cell_type": "code",
   "execution_count": null,
   "id": "e9526aac",
   "metadata": {},
   "outputs": [
    {
     "name": "stdout",
     "output_type": "stream",
     "text": [
      "  Order ID  Amount  Profit  Quantity     Category      Sub-Category  \\\n",
      "0  B-25681    1096     658         7  Electronics  Electronic Games   \n",
      "1  B-26055    5729      64        14    Furniture            Chairs   \n",
      "2  B-25955    2927     146         8    Furniture         Bookcases   \n",
      "3  B-26093    2847     712         8  Electronics          Printers   \n",
      "4  B-25602    2617    1151         4  Electronics            Phones   \n",
      "\n",
      "   PaymentMode  \n",
      "0          COD  \n",
      "1          EMI  \n",
      "2          EMI  \n",
      "3  Credit Card  \n",
      "4  Credit Card  \n",
      "0               COD\n",
      "1               EMI\n",
      "2               EMI\n",
      "3       Credit Card\n",
      "4       Credit Card\n",
      "           ...     \n",
      "1495            COD\n",
      "1496            EMI\n",
      "1497            COD\n",
      "1498            COD\n",
      "1499            EMI\n",
      "Name: PaymentMode, Length: 1500, dtype: object\n"
     ]
    }
   ],
   "source": [
    "# Display first rows\n",
    "print(df.head())\n",
    "\n",
    "# Display column\n",
    "print(df['PaymentMode'])"
   ]
  },
  {
   "cell_type": "code",
   "execution_count": 10,
   "id": "05530b09",
   "metadata": {},
   "outputs": [
    {
     "name": "stdout",
     "output_type": "stream",
     "text": [
      "     Order ID  Amount  Profit  Quantity     Category      Sub-Category  \\\n",
      "1     B-26055    5729      64        14    Furniture            Chairs   \n",
      "2     B-25955    2927     146         8    Furniture         Bookcases   \n",
      "3     B-26093    2847     712         8  Electronics          Printers   \n",
      "4     B-25602    2617    1151         4  Electronics            Phones   \n",
      "5     B-25881    2244     247         4     Clothing          Trousers   \n",
      "11    B-25887    2125    -234         6  Electronics          Printers   \n",
      "12    B-25923    3873    -891         6  Electronics            Phones   \n",
      "14    B-25761    2188    1050         5    Furniture         Bookcases   \n",
      "18    B-25853    2093     721         5    Furniture            Chairs   \n",
      "1457  B-26099    2366     552         5     Clothing          Trousers   \n",
      "1480  B-25862    2061     701         5    Furniture         Bookcases   \n",
      "1482  B-25823    2103     322         8  Electronics  Electronic Games   \n",
      "1483  B-25881    2115      23         5    Furniture            Chairs   \n",
      "1487  B-25997    2292     127         7    Furniture         Bookcases   \n",
      "1489  B-25969    2452     191         7    Furniture         Bookcases   \n",
      "1490  B-25858    2457     665        11  Electronics  Electronic Games   \n",
      "1492  B-25798    2830   -1981        13    Furniture         Bookcases   \n",
      "1496  B-25757    3151     -35         7     Clothing          Trousers   \n",
      "1497  B-25973    4141    1698        13  Electronics          Printers   \n",
      "1499  B-25993    4363     305         5    Furniture            Tables   \n",
      "\n",
      "      PaymentMode  \n",
      "1             EMI  \n",
      "2             EMI  \n",
      "3     Credit Card  \n",
      "4     Credit Card  \n",
      "5     Credit Card  \n",
      "11            EMI  \n",
      "12    Credit Card  \n",
      "14    Credit Card  \n",
      "18    Credit Card  \n",
      "1457          UPI  \n",
      "1480          UPI  \n",
      "1482          UPI  \n",
      "1483          COD  \n",
      "1487          COD  \n",
      "1489          UPI  \n",
      "1490          EMI  \n",
      "1492          EMI  \n",
      "1496          EMI  \n",
      "1497          COD  \n",
      "1499          EMI  \n"
     ]
    }
   ],
   "source": [
    "# Filter data\n",
    "print(df[df['Amount'] > 2000])\n"
   ]
  },
  {
   "cell_type": "code",
   "execution_count": 12,
   "id": "3041c62d",
   "metadata": {},
   "outputs": [
    {
     "name": "stdout",
     "output_type": "stream",
     "text": [
      "<class 'pandas.core.frame.DataFrame'>\n",
      "RangeIndex: 1500 entries, 0 to 1499\n",
      "Data columns (total 7 columns):\n",
      " #   Column        Non-Null Count  Dtype \n",
      "---  ------        --------------  ----- \n",
      " 0   Order ID      1500 non-null   object\n",
      " 1   Amount        1500 non-null   int64 \n",
      " 2   Profit        1500 non-null   int64 \n",
      " 3   Quantity      1500 non-null   int64 \n",
      " 4   Category      1500 non-null   object\n",
      " 5   Sub-Category  1500 non-null   object\n",
      " 6   PaymentMode   1500 non-null   object\n",
      "dtypes: int64(3), object(4)\n",
      "memory usage: 82.2+ KB\n",
      "None\n",
      "            Amount      Profit     Quantity\n",
      "count  1500.000000  1500.00000  1500.000000\n",
      "mean    291.847333    24.64200     3.743333\n",
      "std     461.924620   168.55881     2.184942\n",
      "min       4.000000 -1981.00000     1.000000\n",
      "25%      47.750000   -12.00000     2.000000\n",
      "50%     122.000000     8.00000     3.000000\n",
      "75%     326.250000    38.00000     5.000000\n",
      "max    5729.000000  1864.00000    14.000000\n",
      "(1500, 7)\n",
      "     Order ID  Amount  Profit  Quantity     Category Sub-Category  PaymentMode\n",
      "1491  B-25697       4      -3         1     Clothing        Skirt  Credit Card\n",
      "173   B-25656       6       3         1     Clothing  Hankerchief          COD\n",
      "17    B-26095       6       1         1     Clothing        Kurti          UPI\n",
      "15    B-25655       6      -3         1     Clothing  Hankerchief          UPI\n",
      "1493  B-25873       7       1         1     Clothing  Hankerchief          COD\n",
      "...       ...     ...     ...       ...          ...          ...          ...\n",
      "1496  B-25757    3151     -35         7     Clothing     Trousers          EMI\n",
      "12    B-25923    3873    -891         6  Electronics       Phones  Credit Card\n",
      "1497  B-25973    4141    1698        13  Electronics     Printers          COD\n",
      "1499  B-25993    4363     305         5    Furniture       Tables          EMI\n",
      "1     B-26055    5729      64        14    Furniture       Chairs          EMI\n",
      "\n",
      "[1500 rows x 7 columns]\n"
     ]
    }
   ],
   "source": [
    "print(df.info())            # Structure of data\n",
    "print(df.describe())        # Stats summary\n",
    "print(df.shape)             # Dimensions\n",
    "print(df.sort_values(by='Amount'))"
   ]
  },
  {
   "cell_type": "markdown",
   "id": "eb29aec6",
   "metadata": {},
   "source": [
    "## Start Initially"
   ]
  },
  {
   "cell_type": "code",
   "execution_count": 22,
   "id": "e53d0cb0",
   "metadata": {},
   "outputs": [],
   "source": [
    "## First step is to import pandas\n",
    "\n",
    "import pandas as pd\n",
    "import numpy as np"
   ]
  },
  {
   "cell_type": "code",
   "execution_count": 23,
   "id": "83d10e98",
   "metadata": {},
   "outputs": [],
   "source": [
    "## Dataframe\n",
    "\n",
    "df=pd.DataFrame(np.arange(0,20).reshape(5,4),index=['Row1','Row2','Row3','Row4','Row5'],columns=[\"Column1\",\"Column2\",\"Column3\",\"Coumn4\"])\n",
    "#(data,index,columns,dtype)"
   ]
  },
  {
   "cell_type": "code",
   "execution_count": 24,
   "id": "3ed4edbc",
   "metadata": {},
   "outputs": [
    {
     "data": {
      "text/html": [
       "<div>\n",
       "<style scoped>\n",
       "    .dataframe tbody tr th:only-of-type {\n",
       "        vertical-align: middle;\n",
       "    }\n",
       "\n",
       "    .dataframe tbody tr th {\n",
       "        vertical-align: top;\n",
       "    }\n",
       "\n",
       "    .dataframe thead th {\n",
       "        text-align: right;\n",
       "    }\n",
       "</style>\n",
       "<table border=\"1\" class=\"dataframe\">\n",
       "  <thead>\n",
       "    <tr style=\"text-align: right;\">\n",
       "      <th></th>\n",
       "      <th>Column1</th>\n",
       "      <th>Column2</th>\n",
       "      <th>Column3</th>\n",
       "      <th>Coumn4</th>\n",
       "    </tr>\n",
       "  </thead>\n",
       "  <tbody>\n",
       "    <tr>\n",
       "      <th>Row1</th>\n",
       "      <td>0</td>\n",
       "      <td>1</td>\n",
       "      <td>2</td>\n",
       "      <td>3</td>\n",
       "    </tr>\n",
       "    <tr>\n",
       "      <th>Row2</th>\n",
       "      <td>4</td>\n",
       "      <td>5</td>\n",
       "      <td>6</td>\n",
       "      <td>7</td>\n",
       "    </tr>\n",
       "    <tr>\n",
       "      <th>Row3</th>\n",
       "      <td>8</td>\n",
       "      <td>9</td>\n",
       "      <td>10</td>\n",
       "      <td>11</td>\n",
       "    </tr>\n",
       "    <tr>\n",
       "      <th>Row4</th>\n",
       "      <td>12</td>\n",
       "      <td>13</td>\n",
       "      <td>14</td>\n",
       "      <td>15</td>\n",
       "    </tr>\n",
       "    <tr>\n",
       "      <th>Row5</th>\n",
       "      <td>16</td>\n",
       "      <td>17</td>\n",
       "      <td>18</td>\n",
       "      <td>19</td>\n",
       "    </tr>\n",
       "  </tbody>\n",
       "</table>\n",
       "</div>"
      ],
      "text/plain": [
       "      Column1  Column2  Column3  Coumn4\n",
       "Row1        0        1        2       3\n",
       "Row2        4        5        6       7\n",
       "Row3        8        9       10      11\n",
       "Row4       12       13       14      15\n",
       "Row5       16       17       18      19"
      ]
     },
     "execution_count": 24,
     "metadata": {},
     "output_type": "execute_result"
    }
   ],
   "source": [
    "df.head()\n"
   ]
  },
  {
   "cell_type": "code",
   "execution_count": 25,
   "id": "fb80ed83",
   "metadata": {},
   "outputs": [],
   "source": [
    "df.to_csv('Test.csv')"
   ]
  },
  {
   "cell_type": "code",
   "execution_count": 26,
   "id": "b9f8c623",
   "metadata": {},
   "outputs": [
    {
     "data": {
      "text/plain": [
       "Column1    0\n",
       "Column2    1\n",
       "Column3    2\n",
       "Coumn4     3\n",
       "Name: Row1, dtype: int64"
      ]
     },
     "execution_count": 26,
     "metadata": {},
     "output_type": "execute_result"
    }
   ],
   "source": [
    "## Accessing the elements 2 ways\n",
    "# 1-> loc 2-> iloc(index location)\n",
    "\n",
    "df.loc['Row1']"
   ]
  },
  {
   "cell_type": "code",
   "execution_count": 27,
   "id": "07986f8a",
   "metadata": {},
   "outputs": [
    {
     "data": {
      "text/plain": [
       "pandas.core.series.Series"
      ]
     },
     "execution_count": 27,
     "metadata": {},
     "output_type": "execute_result"
    }
   ],
   "source": [
    "## Check the type\n",
    "\n",
    "type(df.loc['Row1'])"
   ]
  },
  {
   "cell_type": "code",
   "execution_count": 28,
   "id": "459b881b",
   "metadata": {},
   "outputs": [
    {
     "data": {
      "text/html": [
       "<div>\n",
       "<style scoped>\n",
       "    .dataframe tbody tr th:only-of-type {\n",
       "        vertical-align: middle;\n",
       "    }\n",
       "\n",
       "    .dataframe tbody tr th {\n",
       "        vertical-align: top;\n",
       "    }\n",
       "\n",
       "    .dataframe thead th {\n",
       "        text-align: right;\n",
       "    }\n",
       "</style>\n",
       "<table border=\"1\" class=\"dataframe\">\n",
       "  <thead>\n",
       "    <tr style=\"text-align: right;\">\n",
       "      <th></th>\n",
       "      <th>Column2</th>\n",
       "      <th>Column3</th>\n",
       "      <th>Coumn4</th>\n",
       "    </tr>\n",
       "  </thead>\n",
       "  <tbody>\n",
       "    <tr>\n",
       "      <th>Row1</th>\n",
       "      <td>1</td>\n",
       "      <td>2</td>\n",
       "      <td>3</td>\n",
       "    </tr>\n",
       "    <tr>\n",
       "      <th>Row2</th>\n",
       "      <td>5</td>\n",
       "      <td>6</td>\n",
       "      <td>7</td>\n",
       "    </tr>\n",
       "    <tr>\n",
       "      <th>Row3</th>\n",
       "      <td>9</td>\n",
       "      <td>10</td>\n",
       "      <td>11</td>\n",
       "    </tr>\n",
       "    <tr>\n",
       "      <th>Row4</th>\n",
       "      <td>13</td>\n",
       "      <td>14</td>\n",
       "      <td>15</td>\n",
       "    </tr>\n",
       "    <tr>\n",
       "      <th>Row5</th>\n",
       "      <td>17</td>\n",
       "      <td>18</td>\n",
       "      <td>19</td>\n",
       "    </tr>\n",
       "  </tbody>\n",
       "</table>\n",
       "</div>"
      ],
      "text/plain": [
       "      Column2  Column3  Coumn4\n",
       "Row1        1        2       3\n",
       "Row2        5        6       7\n",
       "Row3        9       10      11\n",
       "Row4       13       14      15\n",
       "Row5       17       18      19"
      ]
     },
     "execution_count": 28,
     "metadata": {},
     "output_type": "execute_result"
    }
   ],
   "source": [
    "## Take the elements from the Column2\n",
    "df.iloc[:,1:]"
   ]
  },
  {
   "cell_type": "code",
   "execution_count": 29,
   "id": "32e7cc7e",
   "metadata": {},
   "outputs": [
    {
     "data": {
      "text/plain": [
       "pandas.core.frame.DataFrame"
      ]
     },
     "execution_count": 29,
     "metadata": {},
     "output_type": "execute_result"
    }
   ],
   "source": [
    "type(df.iloc[:,1:])"
   ]
  },
  {
   "cell_type": "code",
   "execution_count": 32,
   "id": "fa946798",
   "metadata": {},
   "outputs": [
    {
     "data": {
      "text/plain": [
       "array([[ 1,  2,  3],\n",
       "       [ 5,  6,  7],\n",
       "       [ 9, 10, 11],\n",
       "       [13, 14, 15],\n",
       "       [17, 18, 19]])"
      ]
     },
     "execution_count": 32,
     "metadata": {},
     "output_type": "execute_result"
    }
   ],
   "source": [
    "#convert Dataframes into array\n",
    "df.iloc[:,1:].values"
   ]
  },
  {
   "cell_type": "code",
   "execution_count": 34,
   "id": "a7fe3e71",
   "metadata": {},
   "outputs": [
    {
     "data": {
      "text/plain": [
       "(5, 3)"
      ]
     },
     "execution_count": 34,
     "metadata": {},
     "output_type": "execute_result"
    }
   ],
   "source": [
    "df.iloc[:,1:].values.shape"
   ]
  },
  {
   "cell_type": "code",
   "execution_count": 35,
   "id": "27844479",
   "metadata": {},
   "outputs": [
    {
     "data": {
      "text/plain": [
       "Column1\n",
       "0     1\n",
       "4     1\n",
       "8     1\n",
       "12    1\n",
       "16    1\n",
       "Name: count, dtype: int64"
      ]
     },
     "execution_count": 35,
     "metadata": {},
     "output_type": "execute_result"
    }
   ],
   "source": [
    "df['Column1'].value_counts()"
   ]
  },
  {
   "cell_type": "code",
   "execution_count": 36,
   "id": "3bf57a84",
   "metadata": {},
   "outputs": [
    {
     "data": {
      "text/plain": [
       "Column1    0\n",
       "Column2    0\n",
       "Column3    0\n",
       "Coumn4     0\n",
       "dtype: int64"
      ]
     },
     "execution_count": 36,
     "metadata": {},
     "output_type": "execute_result"
    }
   ],
   "source": [
    "df.isnull().sum()"
   ]
  },
  {
   "cell_type": "code",
   "execution_count": null,
   "id": "4ec5aa8b",
   "metadata": {},
   "outputs": [],
   "source": []
  }
 ],
 "metadata": {
  "kernelspec": {
   "display_name": "base",
   "language": "python",
   "name": "python3"
  },
  "language_info": {
   "codemirror_mode": {
    "name": "ipython",
    "version": 3
   },
   "file_extension": ".py",
   "mimetype": "text/x-python",
   "name": "python",
   "nbconvert_exporter": "python",
   "pygments_lexer": "ipython3",
   "version": "3.13.5"
  }
 },
 "nbformat": 4,
 "nbformat_minor": 5
}
