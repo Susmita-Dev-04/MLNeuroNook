{
 "cells": [
  {
   "cell_type": "markdown",
   "id": "cbc1b3c5",
   "metadata": {},
   "source": [
    "## Pandas 📊\n",
    "### Definition\n",
    "Pandas is a powerful Python library used for data manipulation and analysis. It provides two main data structures:\n",
    "\n",
    "- Series → 1D labeled array\n",
    "\n",
    "- DataFrame → 2D labeled table of rows and columns\n",
    "\n",
    "### Why Pandas?\n",
    "\n",
    "Easy to handle large datasets\n",
    "\n",
    "Supports multiple file formats (CSV, Excel, SQL, JSON, etc.)\n",
    "\n",
    "Built-in methods for filtering, grouping, merging, reshaping data"
   ]
  },
  {
   "cell_type": "code",
   "execution_count": 1,
   "id": "b5159f2f",
   "metadata": {},
   "outputs": [],
   "source": [
    "#Import pandas\n",
    "import pandas as pd\n"
   ]
  },
  {
   "cell_type": "markdown",
   "id": "0dc28d07",
   "metadata": {},
   "source": [
    "## Creating a Series"
   ]
  },
  {
   "cell_type": "code",
   "execution_count": 2,
   "id": "cbdff742",
   "metadata": {},
   "outputs": [
    {
     "name": "stdout",
     "output_type": "stream",
     "text": [
      "a    10\n",
      "b    20\n",
      "c    30\n",
      "d    40\n",
      "dtype: int64\n"
     ]
    }
   ],
   "source": [
    "import pandas as pd\n",
    "\n",
    "# From a list\n",
    "data = [10, 20, 30, 40]\n",
    "series = pd.Series(data, index=['a', 'b', 'c', 'd'])\n",
    "print(series)\n"
   ]
  },
  {
   "cell_type": "markdown",
   "id": "da313b83",
   "metadata": {},
   "source": [
    "## Creating a DataFrame"
   ]
  },
  {
   "cell_type": "code",
   "execution_count": 3,
   "id": "92a8f1b3",
   "metadata": {},
   "outputs": [
    {
     "name": "stdout",
     "output_type": "stream",
     "text": [
      "      Name  Age       City\n",
      "0    Alice   25      Delhi\n",
      "1      Bob   30     Mumbai\n",
      "2  Charlie   35  Bangalore\n"
     ]
    }
   ],
   "source": [
    "# From dictionary\n",
    "data = {\n",
    "    'Name': ['Alice', 'Bob', 'Charlie'],\n",
    "    'Age': [25, 30, 35],\n",
    "    'City': ['Delhi', 'Mumbai', 'Bangalore']\n",
    "}\n",
    "df = pd.DataFrame(data)\n",
    "print(df)\n"
   ]
  },
  {
   "cell_type": "markdown",
   "id": "05869d29",
   "metadata": {},
   "source": [
    "## Reading & Writing Files"
   ]
  },
  {
   "cell_type": "code",
   "execution_count": 8,
   "id": "35ec9b8c",
   "metadata": {},
   "outputs": [
    {
     "name": "stdout",
     "output_type": "stream",
     "text": [
      "     Order ID  Amount  Profit  Quantity     Category      Sub-Category  \\\n",
      "0     B-25681    1096     658         7  Electronics  Electronic Games   \n",
      "1     B-26055    5729      64        14    Furniture            Chairs   \n",
      "2     B-25955    2927     146         8    Furniture         Bookcases   \n",
      "3     B-26093    2847     712         8  Electronics          Printers   \n",
      "4     B-25602    2617    1151         4  Electronics            Phones   \n",
      "...       ...     ...     ...       ...          ...               ...   \n",
      "1495  B-25700       7      -3         2     Clothing       Hankerchief   \n",
      "1496  B-25757    3151     -35         7     Clothing          Trousers   \n",
      "1497  B-25973    4141    1698        13  Electronics          Printers   \n",
      "1498  B-25698       7      -2         1     Clothing       Hankerchief   \n",
      "1499  B-25993    4363     305         5    Furniture            Tables   \n",
      "\n",
      "      PaymentMode  \n",
      "0             COD  \n",
      "1             EMI  \n",
      "2             EMI  \n",
      "3     Credit Card  \n",
      "4     Credit Card  \n",
      "...           ...  \n",
      "1495          COD  \n",
      "1496          EMI  \n",
      "1497          COD  \n",
      "1498          COD  \n",
      "1499          EMI  \n",
      "\n",
      "[1500 rows x 7 columns]\n"
     ]
    }
   ],
   "source": [
    "# Reading CSV file\n",
    "df = pd.read_csv(\"D:\\DATASETS-BI\\Details.csv\")\n",
    "print(df)\n",
    "\n",
    "# Writing CSV file\n",
    "df.to_csv('output.csv', index=False)\n"
   ]
  },
  {
   "cell_type": "markdown",
   "id": "5e40d180",
   "metadata": {},
   "source": [
    "## Inbuilt pandas Function\n",
    "\n",
    "\n",
    "| Function        | Description              |\n",
    "| --------------- | ------------------------ |\n",
    "| `head()`        | Show first rows          |\n",
    "| `tail()`        | Show last rows           |\n",
    "| `info()`        | Summary of DataFrame     |\n",
    "| `describe()`    | Statistics summary       |\n",
    "| `shape`         | Number of rows & columns |\n",
    "| `drop()`        | Remove rows/columns      |\n",
    "| `sort_values()` | Sort data                |\n",
    "| `groupby()`     | Group data by a column   |\n"
   ]
  },
  {
   "cell_type": "code",
   "execution_count": 9,
   "id": "e9526aac",
   "metadata": {},
   "outputs": [
    {
     "name": "stdout",
     "output_type": "stream",
     "text": [
      "  Order ID  Amount  Profit  Quantity     Category      Sub-Category  \\\n",
      "0  B-25681    1096     658         7  Electronics  Electronic Games   \n",
      "1  B-26055    5729      64        14    Furniture            Chairs   \n",
      "2  B-25955    2927     146         8    Furniture         Bookcases   \n",
      "3  B-26093    2847     712         8  Electronics          Printers   \n",
      "4  B-25602    2617    1151         4  Electronics            Phones   \n",
      "\n",
      "   PaymentMode  \n",
      "0          COD  \n",
      "1          EMI  \n",
      "2          EMI  \n",
      "3  Credit Card  \n",
      "4  Credit Card  \n",
      "0               COD\n",
      "1               EMI\n",
      "2               EMI\n",
      "3       Credit Card\n",
      "4       Credit Card\n",
      "           ...     \n",
      "1495            COD\n",
      "1496            EMI\n",
      "1497            COD\n",
      "1498            COD\n",
      "1499            EMI\n",
      "Name: PaymentMode, Length: 1500, dtype: object\n"
     ]
    }
   ],
   "source": [
    "# Display first rows\n",
    "print(df.head())\n",
    "\n",
    "# Display column\n",
    "print(df['PaymentMode'])\n",
    "\n",
    "\n"
   ]
  },
  {
   "cell_type": "code",
   "execution_count": 10,
   "id": "05530b09",
   "metadata": {},
   "outputs": [
    {
     "name": "stdout",
     "output_type": "stream",
     "text": [
      "     Order ID  Amount  Profit  Quantity     Category      Sub-Category  \\\n",
      "1     B-26055    5729      64        14    Furniture            Chairs   \n",
      "2     B-25955    2927     146         8    Furniture         Bookcases   \n",
      "3     B-26093    2847     712         8  Electronics          Printers   \n",
      "4     B-25602    2617    1151         4  Electronics            Phones   \n",
      "5     B-25881    2244     247         4     Clothing          Trousers   \n",
      "11    B-25887    2125    -234         6  Electronics          Printers   \n",
      "12    B-25923    3873    -891         6  Electronics            Phones   \n",
      "14    B-25761    2188    1050         5    Furniture         Bookcases   \n",
      "18    B-25853    2093     721         5    Furniture            Chairs   \n",
      "1457  B-26099    2366     552         5     Clothing          Trousers   \n",
      "1480  B-25862    2061     701         5    Furniture         Bookcases   \n",
      "1482  B-25823    2103     322         8  Electronics  Electronic Games   \n",
      "1483  B-25881    2115      23         5    Furniture            Chairs   \n",
      "1487  B-25997    2292     127         7    Furniture         Bookcases   \n",
      "1489  B-25969    2452     191         7    Furniture         Bookcases   \n",
      "1490  B-25858    2457     665        11  Electronics  Electronic Games   \n",
      "1492  B-25798    2830   -1981        13    Furniture         Bookcases   \n",
      "1496  B-25757    3151     -35         7     Clothing          Trousers   \n",
      "1497  B-25973    4141    1698        13  Electronics          Printers   \n",
      "1499  B-25993    4363     305         5    Furniture            Tables   \n",
      "\n",
      "      PaymentMode  \n",
      "1             EMI  \n",
      "2             EMI  \n",
      "3     Credit Card  \n",
      "4     Credit Card  \n",
      "5     Credit Card  \n",
      "11            EMI  \n",
      "12    Credit Card  \n",
      "14    Credit Card  \n",
      "18    Credit Card  \n",
      "1457          UPI  \n",
      "1480          UPI  \n",
      "1482          UPI  \n",
      "1483          COD  \n",
      "1487          COD  \n",
      "1489          UPI  \n",
      "1490          EMI  \n",
      "1492          EMI  \n",
      "1496          EMI  \n",
      "1497          COD  \n",
      "1499          EMI  \n"
     ]
    }
   ],
   "source": [
    "# Filter data\n",
    "print(df[df['Amount'] > 2000])\n"
   ]
  },
  {
   "cell_type": "code",
   "execution_count": 12,
   "id": "3041c62d",
   "metadata": {},
   "outputs": [
    {
     "name": "stdout",
     "output_type": "stream",
     "text": [
      "<class 'pandas.core.frame.DataFrame'>\n",
      "RangeIndex: 1500 entries, 0 to 1499\n",
      "Data columns (total 7 columns):\n",
      " #   Column        Non-Null Count  Dtype \n",
      "---  ------        --------------  ----- \n",
      " 0   Order ID      1500 non-null   object\n",
      " 1   Amount        1500 non-null   int64 \n",
      " 2   Profit        1500 non-null   int64 \n",
      " 3   Quantity      1500 non-null   int64 \n",
      " 4   Category      1500 non-null   object\n",
      " 5   Sub-Category  1500 non-null   object\n",
      " 6   PaymentMode   1500 non-null   object\n",
      "dtypes: int64(3), object(4)\n",
      "memory usage: 82.2+ KB\n",
      "None\n",
      "            Amount      Profit     Quantity\n",
      "count  1500.000000  1500.00000  1500.000000\n",
      "mean    291.847333    24.64200     3.743333\n",
      "std     461.924620   168.55881     2.184942\n",
      "min       4.000000 -1981.00000     1.000000\n",
      "25%      47.750000   -12.00000     2.000000\n",
      "50%     122.000000     8.00000     3.000000\n",
      "75%     326.250000    38.00000     5.000000\n",
      "max    5729.000000  1864.00000    14.000000\n",
      "(1500, 7)\n",
      "     Order ID  Amount  Profit  Quantity     Category Sub-Category  PaymentMode\n",
      "1491  B-25697       4      -3         1     Clothing        Skirt  Credit Card\n",
      "173   B-25656       6       3         1     Clothing  Hankerchief          COD\n",
      "17    B-26095       6       1         1     Clothing        Kurti          UPI\n",
      "15    B-25655       6      -3         1     Clothing  Hankerchief          UPI\n",
      "1493  B-25873       7       1         1     Clothing  Hankerchief          COD\n",
      "...       ...     ...     ...       ...          ...          ...          ...\n",
      "1496  B-25757    3151     -35         7     Clothing     Trousers          EMI\n",
      "12    B-25923    3873    -891         6  Electronics       Phones  Credit Card\n",
      "1497  B-25973    4141    1698        13  Electronics     Printers          COD\n",
      "1499  B-25993    4363     305         5    Furniture       Tables          EMI\n",
      "1     B-26055    5729      64        14    Furniture       Chairs          EMI\n",
      "\n",
      "[1500 rows x 7 columns]\n"
     ]
    }
   ],
   "source": [
    "print(df.info())            # Structure of data\n",
    "print(df.describe())        # Stats summary\n",
    "print(df.shape)             # Dimensions\n",
    "print(df.sort_values(by='Amount'))"
   ]
  }
 ],
 "metadata": {
  "kernelspec": {
   "display_name": "base",
   "language": "python",
   "name": "python3"
  },
  "language_info": {
   "codemirror_mode": {
    "name": "ipython",
    "version": 3
   },
   "file_extension": ".py",
   "mimetype": "text/x-python",
   "name": "python",
   "nbconvert_exporter": "python",
   "pygments_lexer": "ipython3",
   "version": "3.13.5"
  }
 },
 "nbformat": 4,
 "nbformat_minor": 5
}
