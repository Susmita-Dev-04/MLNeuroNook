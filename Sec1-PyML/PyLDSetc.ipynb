{
 "cells": [
  {
   "cell_type": "markdown",
   "id": "39b43602",
   "metadata": {},
   "source": [
    "# Python Data Structures and Boolean\n",
    "- Boolean\n",
    "- Boolean and Logical Operators\n",
    "- Lists\n",
    "- Comparison operators\n",
    "- Dictionaries\n",
    "- Tuples\n",
    "- Sets\n",
    "\n",
    "## 1️⃣Boolean Variables\n",
    "Boolean values are the two constant objects False and True.\n",
    "\n",
    "They are used to represent truth values (other values can also be considered false or true).\n",
    "\n",
    "In numeric contexts (for example, when used as the argument to an arithmetic operator), they behave like the integers 0 and 1, respectively.\n",
    "\n",
    "The built-in function bool() can be used to cast any value to a Boolean, if the value can be interpreted as a truth value\n",
    "\n",
    "They are written as False and True, respectively."
   ]
  },
  {
   "cell_type": "code",
   "execution_count": 2,
   "id": "bc5cd186",
   "metadata": {},
   "outputs": [
    {
     "name": "stdout",
     "output_type": "stream",
     "text": [
      "True False\n"
     ]
    }
   ],
   "source": [
    "is_sunny = True\n",
    "is_raining = False\n",
    "print(is_sunny, is_raining)"
   ]
  },
  {
   "cell_type": "code",
   "execution_count": 15,
   "id": "f9b1e22d",
   "metadata": {},
   "outputs": [],
   "source": [
    "my_str='Sus@2004'"
   ]
  },
  {
   "cell_type": "code",
   "execution_count": 17,
   "id": "ff1f68f9",
   "metadata": {},
   "outputs": [
    {
     "name": "stdout",
     "output_type": "stream",
     "text": [
      "False\n",
      "False\n",
      "False\n",
      "True\n",
      "False\n",
      "False\n",
      "False\n",
      "True\n",
      "False\n"
     ]
    }
   ],
   "source": [
    "print(my_str.isalnum()) #check if all char are numbers\n",
    "print(my_str.isalpha()) #check if all char in the string are alphabetic\n",
    "print(my_str.isdigit()) #test if string contains digits\n",
    "print(my_str.istitle()) #test if string contains title words\n",
    "print(my_str.isupper()) #test if string contains upper case\n",
    "print(my_str.islower()) #test if string contains lower case\n",
    "print(my_str.isspace()) #test if string contains spaces\n",
    "print(my_str.endswith('4')) #test if string ends with 4\n",
    "print(my_str.startswith('H')) #test if string startswith H"
   ]
  },
  {
   "cell_type": "markdown",
   "id": "9a315fe7",
   "metadata": {},
   "source": [
    "## 2️⃣ Boolean and Logical Operators\n",
    "- Definition: Used to perform logical operations (and, or, not) on Boolean values."
   ]
  },
  {
   "cell_type": "code",
   "execution_count": 3,
   "id": "56434a9d",
   "metadata": {},
   "outputs": [
    {
     "name": "stdout",
     "output_type": "stream",
     "text": [
      "False\n",
      "True\n",
      "False\n"
     ]
    }
   ],
   "source": [
    "a, b = True, False\n",
    "print(a and b)   # False\n",
    "print(a or b)    # True\n",
    "print(not a)     # False\n"
   ]
  },
  {
   "cell_type": "markdown",
   "id": "e3053be9",
   "metadata": {},
   "source": [
    "## 3️⃣Lists\n",
    "Definition: Ordered, mutable collection of elements.\n",
    "Common Methods: append(), remove(), sort(), pop(), extend()\n",
    "\n",
    "- A list is a data structure in Python that is a mutable, or changeable, ordered sequence of elements. Each element or value that is inside of a list is called an item. Just as strings are defined as characters between quotes, lists are defined by having values between square brackets [ ]"
   ]
  },
  {
   "cell_type": "code",
   "execution_count": 4,
   "id": "2f52878b",
   "metadata": {},
   "outputs": [
    {
     "name": "stdout",
     "output_type": "stream",
     "text": [
      "['apple', 'banana', 'cherry', 'orange']\n"
     ]
    }
   ],
   "source": [
    "fruits = [\"apple\", \"banana\", \"cherry\"]\n",
    "fruits.append(\"orange\")\n",
    "print(fruits)  # ['apple', 'banana', 'cherry', 'orange']\n"
   ]
  },
  {
   "cell_type": "code",
   "execution_count": 18,
   "id": "b8f3025f",
   "metadata": {},
   "outputs": [],
   "source": [
    "lst=['Mathematics', 'chemistry', 100, 200, 300, 204]\n"
   ]
  },
  {
   "cell_type": "code",
   "execution_count": 19,
   "id": "f02b5eb2",
   "metadata": {},
   "outputs": [],
   "source": [
    "#.append is used to add elements in the list\n",
    "lst.append(\"sus\")"
   ]
  },
  {
   "cell_type": "code",
   "execution_count": 20,
   "id": "40e0e6cc",
   "metadata": {},
   "outputs": [
    {
     "data": {
      "text/plain": [
       "['Mathematics', 'chemistry', 100, 200, 300, 204, 'sus']"
      ]
     },
     "execution_count": 20,
     "metadata": {},
     "output_type": "execute_result"
    }
   ],
   "source": [
    "lst"
   ]
  },
  {
   "cell_type": "code",
   "execution_count": 23,
   "id": "ea82782e",
   "metadata": {},
   "outputs": [
    {
     "name": "stdout",
     "output_type": "stream",
     "text": [
      "[1, 2, 3, 4]\n",
      "[1, 99, 2, 3, 4]\n",
      "[1, 99, 2, 3, 4, 8, 9]\n"
     ]
    }
   ],
   "source": [
    "my_list = [1, 2, 3]\n",
    "\n",
    "# Using append\n",
    "my_list.append(4)   # Adds 4 at the end\n",
    "print(my_list)      # [1, 2, 3, 4]\n",
    "\n",
    "# Using insert\n",
    "my_list.insert(1, 99)  # Inserts 99 at index 1\n",
    "print(my_list)         # [1, 99, 2, 3, 4]\n",
    "\n",
    "\n",
    "#Extend Method\n",
    "my_list.extend([8,9])\n",
    "print(my_list)\n",
    "\n",
    "#✅ Tip: Use append() when adding at the end, insert() when you need control over the position."
   ]
  },
  {
   "cell_type": "markdown",
   "id": "e694b36e",
   "metadata": {},
   "source": [
    "## 4️⃣ Comparison Operators\n",
    "Definition: Operators used to compare values.\n",
    "Operators: ==, !=, >, <, >=, <="
   ]
  },
  {
   "cell_type": "code",
   "execution_count": 5,
   "id": "85cac329",
   "metadata": {},
   "outputs": [
    {
     "name": "stdout",
     "output_type": "stream",
     "text": [
      "False\n",
      "True\n"
     ]
    }
   ],
   "source": [
    "x, y = 10, 20\n",
    "print(x == y)  # False\n",
    "print(x < y)   # True\n"
   ]
  },
  {
   "cell_type": "markdown",
   "id": "7e5bbce4",
   "metadata": {},
   "source": [
    "## 5️⃣ Dictionaries\n",
    "Definition: Unordered collection of key-value pairs.\n",
    "Common Methods: keys(), values(), items(), get(), update()\n",
    "- A dictionary is a collection which is unordered, changeable and indexed. In Python dictionaries are written with curly brackets, and they have keys and values."
   ]
  },
  {
   "cell_type": "code",
   "execution_count": 10,
   "id": "888a1279",
   "metadata": {},
   "outputs": [
    {
     "name": "stdout",
     "output_type": "stream",
     "text": [
      "Alice\n",
      "{'name': 'Alice', 'age': 26}\n"
     ]
    }
   ],
   "source": [
    "person = {\"name\": \"Alice\", \"age\": 25}\n",
    "print(person[\"name\"])  # Alice\n",
    "person.update({\"age\": 26})\n",
    "print(person)\n"
   ]
  },
  {
   "cell_type": "markdown",
   "id": "6ca6b7da",
   "metadata": {},
   "source": [
    "## Nested Dictionary"
   ]
  },
  {
   "cell_type": "code",
   "execution_count": 11,
   "id": "b59b52bc",
   "metadata": {},
   "outputs": [
    {
     "name": "stdout",
     "output_type": "stream",
     "text": [
      "{'car1': {'Mercedes': 1960}, 'car2': {'Audi': 1970}, 'car3': {'Ambassador': 1980}}\n"
     ]
    }
   ],
   "source": [
    "car1_model={'Mercedes':1960}\n",
    "car2_model={'Audi':1970}\n",
    "car3_model={'Ambassador':1980}\n",
    "\n",
    "car_type={'car1':car1_model,'car2':car2_model,'car3':car3_model}\n",
    "\n",
    "print(car_type)\n"
   ]
  },
  {
   "cell_type": "code",
   "execution_count": 13,
   "id": "25c246d6",
   "metadata": {},
   "outputs": [
    {
     "name": "stdout",
     "output_type": "stream",
     "text": [
      "{'Mercedes': 1960}\n",
      "1960\n"
     ]
    }
   ],
   "source": [
    "### Accessing the items in the dictionary\n",
    "print(car_type['car1'])\n",
    "print(car_type['car1']['Mercedes'])\n"
   ]
  },
  {
   "cell_type": "markdown",
   "id": "7a0f5862",
   "metadata": {},
   "source": [
    "## 6️⃣ Tuples\n",
    "Definition: Ordered, immutable collection of elements."
   ]
  },
  {
   "cell_type": "code",
   "execution_count": 24,
   "id": "7532df3f",
   "metadata": {},
   "outputs": [],
   "source": [
    "#create an empty Tuples\n",
    "\n",
    "my_tuple=tuple()"
   ]
  },
  {
   "cell_type": "code",
   "execution_count": 25,
   "id": "08da6a13",
   "metadata": {},
   "outputs": [
    {
     "name": "stdout",
     "output_type": "stream",
     "text": [
      "10\n"
     ]
    }
   ],
   "source": [
    "coordinates = (10, 20)\n",
    "print(coordinates[0])  # 10\n"
   ]
  },
  {
   "cell_type": "markdown",
   "id": "2eb79fe0",
   "metadata": {},
   "source": [
    "## 7️⃣ Sets\n",
    "Definition: Unordered, mutable collection of unique elements.\n",
    "Common Methods: add(), remove(), union(), intersection()\n",
    "- A Set is an unordered collection data type that is iterable, mutable, and has no duplicate elements. Python's set class represents the mathematical notion of a set.This is based on a data structure known as a hash table"
   ]
  },
  {
   "cell_type": "code",
   "execution_count": 8,
   "id": "557a811e",
   "metadata": {},
   "outputs": [
    {
     "name": "stdout",
     "output_type": "stream",
     "text": [
      "{1, 2, 3, 4}\n"
     ]
    }
   ],
   "source": [
    "set_a = {1, 2, 3}\n",
    "set_a.add(4)\n",
    "print(set_a)  # {1, 2, 3, 4}\n"
   ]
  }
 ],
 "metadata": {
  "kernelspec": {
   "display_name": "base",
   "language": "python",
   "name": "python3"
  },
  "language_info": {
   "codemirror_mode": {
    "name": "ipython",
    "version": 3
   },
   "file_extension": ".py",
   "mimetype": "text/x-python",
   "name": "python",
   "nbconvert_exporter": "python",
   "pygments_lexer": "ipython3",
   "version": "3.13.5"
  }
 },
 "nbformat": 4,
 "nbformat_minor": 5
}
