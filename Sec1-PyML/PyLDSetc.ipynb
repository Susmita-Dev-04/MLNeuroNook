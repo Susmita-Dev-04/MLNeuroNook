{
 "cells": [
  {
   "cell_type": "markdown",
   "id": "39b43602",
   "metadata": {},
   "source": [
    "##Python Data Structures and Boolean\n",
    "- Boolean\n",
    "- Boolean and Logical Operators\n",
    "- Lists\n",
    "- Comparison operators\n",
    "- Dictionaries\n",
    "- Tuples\n",
    "- Sets\n",
    "\n",
    "##Boolean Variables\n",
    "Boolean values are the two constant objects False and True.\n",
    "\n",
    "They are used to represent truth values (other values can also be considered false or true).\n",
    "\n",
    "In numeric contexts (for example, when used as the argument to an arithmetic operator), they behave like the integers 0 and 1, respectively.\n",
    "\n",
    "The built-in function bool() can be used to cast any value to a Boolean, if the value can be interpreted as a truth value\n",
    "\n",
    "They are written as False and True, respectively."
   ]
  },
  {
   "cell_type": "code",
   "execution_count": 1,
   "id": "bc5cd186",
   "metadata": {},
   "outputs": [
    {
     "data": {
      "text/plain": [
       "False"
      ]
     },
     "execution_count": 1,
     "metadata": {},
     "output_type": "execute_result"
    }
   ],
   "source": [
    "False"
   ]
  }
 ],
 "metadata": {
  "kernelspec": {
   "display_name": "base",
   "language": "python",
   "name": "python3"
  },
  "language_info": {
   "codemirror_mode": {
    "name": "ipython",
    "version": 3
   },
   "file_extension": ".py",
   "mimetype": "text/x-python",
   "name": "python",
   "nbconvert_exporter": "python",
   "pygments_lexer": "ipython3",
   "version": "3.13.5"
  }
 },
 "nbformat": 4,
 "nbformat_minor": 5
}
