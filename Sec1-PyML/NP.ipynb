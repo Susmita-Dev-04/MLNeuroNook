{
 "cells": [
  {
   "cell_type": "markdown",
   "id": "6c62a201",
   "metadata": {},
   "source": [
    "## Numpy Tutorials\n",
    "NumPy is a general-purpose array-processing package. It provides a high-performance multidimensional array object, and tools for working with these arrays. It is the fundamental package for scientific computing with Python\n",
    "\n",
    "## What is an array\n",
    "An array is a data structure that stores values of same data type. In Python, this is the main difference between arrays and lists. While python lists can contain values corresponding to different data types, arrays in python can only contain values corresponding to same data type\n",
    "\n",
    "## Features\n",
    "- Faster than Python lists for numerical operations\n",
    "\n",
    "- Supports multidimensional arrays\n",
    "\n",
    "- Provides mathematical, statistical, and linear algebra functions\n",
    "\n",
    "- Works well with other libraries like Pandas, Matplotlib, and Scikit-learn"
   ]
  },
  {
   "cell_type": "markdown",
   "id": "40ed453e",
   "metadata": {},
   "source": [
    "| Function                | Description                                  | Example                      |\n",
    "| ----------------------- | -------------------------------------------- | ---------------------------- |\n",
    "| `np.array()`            | Create a NumPy array                         | `np.array([1, 2, 3])`        |\n",
    "| `np.zeros()`            | Create an array filled with zeros            | `np.zeros((3,3))`            |\n",
    "| `np.ones()`             | Create an array filled with ones             | `np.ones((2,4))`             |\n",
    "| `np.arange()`           | Create array with evenly spaced values       | `np.arange(0, 10, 2)`        |\n",
    "| `np.linspace()`         | Create evenly spaced numbers between a range | `np.linspace(1, 5, 10)`      |\n",
    "| `np.reshape()`          | Change shape of array                        | `arr.reshape(2,3)`           |\n",
    "| `np.sum()`              | Sum of elements                              | `np.sum(arr)`                |\n",
    "| `np.mean()`             | Mean value                                   | `np.mean(arr)`               |\n",
    "| `np.max()` / `np.min()` | Maximum & Minimum value                      | `np.max(arr)`, `np.min(arr)` |\n",
    "| `np.dot()`              | Dot product of two arrays                    | `np.dot(a, b)`               |\n"
   ]
  },
  {
   "cell_type": "code",
   "execution_count": 1,
   "id": "cec5b2cc",
   "metadata": {},
   "outputs": [
    {
     "name": "stdout",
     "output_type": "stream",
     "text": [
      "Array: [1 2 3 4 5]\n",
      "Zeros Array:\n",
      " [[0. 0. 0.]\n",
      " [0. 0. 0.]]\n",
      "Ones Array:\n",
      " [[1. 1. 1.]\n",
      " [1. 1. 1.]]\n",
      "Range Array: [0 2 4 6 8]\n",
      "Reshaped Array:\n",
      " [[1 2 3]\n",
      " [4 5 6]]\n"
     ]
    }
   ],
   "source": [
    "import numpy as np\n",
    "\n",
    "# Creating NumPy array\n",
    "arr = np.array([1, 2, 3, 4, 5])\n",
    "print(\"Array:\", arr)\n",
    "\n",
    "# Array of zeros\n",
    "zeros_arr = np.zeros((2, 3)) # 2-rows, 3-cols\n",
    "print(\"Zeros Array:\\n\", zeros_arr)\n",
    "\n",
    "# Array of ones\n",
    "ones_arr = np.ones((2, 3))\n",
    "print(\"Ones Array:\\n\", ones_arr)\n",
    "\n",
    "# Range of numbers\n",
    "range_arr = np.arange(0, 10, 2)\n",
    "print(\"Range Array:\", range_arr)\n",
    "\n",
    "# Reshaping array\n",
    "reshaped = np.arange(1, 7).reshape(2, 3)\n",
    "print(\"Reshaped Array:\\n\", reshaped)\n"
   ]
  },
  {
   "cell_type": "code",
   "execution_count": 2,
   "id": "129eac11",
   "metadata": {},
   "outputs": [
    {
     "name": "stdout",
     "output_type": "stream",
     "text": [
      "Sum: 150\n",
      "Mean: 30.0\n",
      "Max: 50\n",
      "Min: 10\n",
      "Standard Deviation: 14.142135623730951\n",
      "Linspace: [0.   0.25 0.5  0.75 1.  ]\n",
      "Dot Product:\n",
      " [[19 22]\n",
      " [43 50]]\n"
     ]
    }
   ],
   "source": [
    "import numpy as np\n",
    "\n",
    "data = np.array([10, 20, 30, 40, 50])\n",
    "\n",
    "print(\"Sum:\", np.sum(data))\n",
    "print(\"Mean:\", np.mean(data))\n",
    "print(\"Max:\", np.max(data))\n",
    "print(\"Min:\", np.min(data))\n",
    "print(\"Standard Deviation:\", np.std(data))\n",
    "\n",
    "# Using linspace\n",
    "print(\"Linspace:\", np.linspace(0, 1, 5)) # start point, End Point, No.s\n",
    "\n",
    "# Matrix multiplication\n",
    "a = np.array([[1, 2], [3, 4]])\n",
    "b = np.array([[5, 6], [7, 8]])\n",
    "print(\"Dot Product:\\n\", np.dot(a, b))\n"
   ]
  },
  {
   "cell_type": "code",
   "execution_count": 3,
   "id": "251befc7",
   "metadata": {},
   "outputs": [],
   "source": [
    "#Just practice purpose\n",
    "import numpy as np"
   ]
  },
  {
   "cell_type": "code",
   "execution_count": 4,
   "id": "b0b76b3f",
   "metadata": {},
   "outputs": [
    {
     "name": "stdout",
     "output_type": "stream",
     "text": [
      "[1 2 3 4 5]\n"
     ]
    },
    {
     "data": {
      "text/plain": [
       "numpy.ndarray"
      ]
     },
     "execution_count": 4,
     "metadata": {},
     "output_type": "execute_result"
    }
   ],
   "source": [
    "my_list=[1,2,3,4,5]\n",
    "arr=np.array(my_list)\n",
    "print(arr)\n",
    "type(arr)"
   ]
  },
  {
   "cell_type": "code",
   "execution_count": 5,
   "id": "91425836",
   "metadata": {},
   "outputs": [
    {
     "data": {
      "text/plain": [
       "array([1, 2, 3, 4, 5])"
      ]
     },
     "execution_count": 5,
     "metadata": {},
     "output_type": "execute_result"
    }
   ],
   "source": [
    "#single array\n",
    "arr"
   ]
  },
  {
   "cell_type": "code",
   "execution_count": 6,
   "id": "d1109f91",
   "metadata": {},
   "outputs": [
    {
     "data": {
      "text/plain": [
       "(5,)"
      ]
     },
     "execution_count": 6,
     "metadata": {},
     "output_type": "execute_result"
    }
   ],
   "source": [
    "arr.shape"
   ]
  },
  {
   "cell_type": "code",
   "execution_count": 7,
   "id": "49890c66",
   "metadata": {},
   "outputs": [
    {
     "data": {
      "text/plain": [
       "array([[1, 2, 3, 4, 5],\n",
       "       [2, 3, 5, 4, 6],\n",
       "       [7, 9, 3, 4, 5]])"
      ]
     },
     "execution_count": 7,
     "metadata": {},
     "output_type": "execute_result"
    }
   ],
   "source": [
    "#MultiNested Array\n",
    "my_list1=[1,2,3,4,5]\n",
    "my_list2=[2,3,5,4,6]\n",
    "my_list3=[7,9,3,4,5]\n",
    "arr1=np.array([my_list1,my_list2,my_list3])\n",
    "arr1\n",
    "\n"
   ]
  },
  {
   "cell_type": "code",
   "execution_count": 8,
   "id": "c5d189ca",
   "metadata": {},
   "outputs": [
    {
     "data": {
      "text/plain": [
       "(3, 5)"
      ]
     },
     "execution_count": 8,
     "metadata": {},
     "output_type": "execute_result"
    }
   ],
   "source": [
    "arr1.shape"
   ]
  },
  {
   "cell_type": "code",
   "execution_count": 9,
   "id": "fd8cbb71",
   "metadata": {},
   "outputs": [
    {
     "data": {
      "text/plain": [
       "array([[1, 2, 3],\n",
       "       [4, 5, 2],\n",
       "       [3, 5, 4],\n",
       "       [6, 7, 9],\n",
       "       [3, 4, 5]])"
      ]
     },
     "execution_count": 9,
     "metadata": {},
     "output_type": "execute_result"
    }
   ],
   "source": [
    "arr1.reshape(5,3)"
   ]
  },
  {
   "cell_type": "markdown",
   "id": "9365b4bb",
   "metadata": {},
   "source": [
    "## Indexing"
   ]
  },
  {
   "cell_type": "code",
   "execution_count": 10,
   "id": "fb5beedf",
   "metadata": {},
   "outputs": [
    {
     "data": {
      "text/plain": [
       "array([1, 2, 3, 4, 5])"
      ]
     },
     "execution_count": 10,
     "metadata": {},
     "output_type": "execute_result"
    }
   ],
   "source": [
    "## Accessing the array elements\n",
    "\n",
    "arr"
   ]
  },
  {
   "cell_type": "code",
   "execution_count": 11,
   "id": "cb138e98",
   "metadata": {},
   "outputs": [
    {
     "data": {
      "text/plain": [
       "np.int64(3)"
      ]
     },
     "execution_count": 11,
     "metadata": {},
     "output_type": "execute_result"
    }
   ],
   "source": [
    "arr[2]"
   ]
  },
  {
   "cell_type": "code",
   "execution_count": 12,
   "id": "77dd5e2d",
   "metadata": {},
   "outputs": [
    {
     "data": {
      "text/plain": [
       "array([[1, 2, 3, 4, 5],\n",
       "       [2, 3, 5, 4, 6],\n",
       "       [7, 9, 3, 4, 5]])"
      ]
     },
     "execution_count": 12,
     "metadata": {},
     "output_type": "execute_result"
    }
   ],
   "source": [
    "arr1"
   ]
  },
  {
   "cell_type": "code",
   "execution_count": 13,
   "id": "6c948e3a",
   "metadata": {},
   "outputs": [
    {
     "data": {
      "text/plain": [
       "array([[2, 3],\n",
       "       [7, 9]])"
      ]
     },
     "execution_count": 13,
     "metadata": {},
     "output_type": "execute_result"
    }
   ],
   "source": [
    "arr1[1:,:2]"
   ]
  },
  {
   "cell_type": "code",
   "execution_count": 14,
   "id": "059d6d27",
   "metadata": {},
   "outputs": [
    {
     "data": {
      "text/plain": [
       "array([[1, 2],\n",
       "       [2, 3]])"
      ]
     },
     "execution_count": 14,
     "metadata": {},
     "output_type": "execute_result"
    }
   ],
   "source": [
    "arr1[:2,:2]"
   ]
  },
  {
   "cell_type": "code",
   "execution_count": 15,
   "id": "198a34b9",
   "metadata": {},
   "outputs": [
    {
     "data": {
      "text/plain": [
       "array([1, 2, 3, 4, 5])"
      ]
     },
     "execution_count": 15,
     "metadata": {},
     "output_type": "execute_result"
    }
   ],
   "source": [
    "arr"
   ]
  },
  {
   "cell_type": "code",
   "execution_count": 16,
   "id": "fbd6ac15",
   "metadata": {},
   "outputs": [],
   "source": [
    "arr[3:]=100"
   ]
  },
  {
   "cell_type": "code",
   "execution_count": 17,
   "id": "0a896b66",
   "metadata": {},
   "outputs": [
    {
     "data": {
      "text/plain": [
       "array([  1,   2,   3, 100, 100])"
      ]
     },
     "execution_count": 17,
     "metadata": {},
     "output_type": "execute_result"
    }
   ],
   "source": [
    "arr"
   ]
  },
  {
   "cell_type": "code",
   "execution_count": 18,
   "id": "2441a6c6",
   "metadata": {},
   "outputs": [
    {
     "data": {
      "text/plain": [
       "array([[1, 2, 3, 4, 5],\n",
       "       [2, 3, 5, 4, 6],\n",
       "       [7, 9, 3, 4, 5]])"
      ]
     },
     "execution_count": 18,
     "metadata": {},
     "output_type": "execute_result"
    }
   ],
   "source": [
    "arr1"
   ]
  },
  {
   "cell_type": "code",
   "execution_count": 19,
   "id": "f21e4737",
   "metadata": {},
   "outputs": [
    {
     "data": {
      "text/plain": [
       "array([[1, 2, 3, 4, 5, 2, 3, 5, 4, 6, 7, 9, 3, 4, 5]])"
      ]
     },
     "execution_count": 19,
     "metadata": {},
     "output_type": "execute_result"
    }
   ],
   "source": [
    "arr1.reshape(1,15)"
   ]
  },
  {
   "cell_type": "code",
   "execution_count": null,
   "id": "9593e29a",
   "metadata": {},
   "outputs": [],
   "source": []
  },
  {
   "cell_type": "code",
   "execution_count": 26,
   "id": "892ec488",
   "metadata": {},
   "outputs": [
    {
     "data": {
      "text/plain": [
       "array([0, 2, 4, 6, 8])"
      ]
     },
     "execution_count": 26,
     "metadata": {},
     "output_type": "execute_result"
    }
   ],
   "source": [
    "arr2=np.arange(0,10,2) # (start,stop,step)\n",
    "arr2"
   ]
  },
  {
   "cell_type": "code",
   "execution_count": 27,
   "id": "8d1555dd",
   "metadata": {},
   "outputs": [
    {
     "data": {
      "text/plain": [
       "array([ 1.        ,  1.89795918,  2.79591837,  3.69387755,  4.59183673,\n",
       "        5.48979592,  6.3877551 ,  7.28571429,  8.18367347,  9.08163265,\n",
       "        9.97959184, 10.87755102, 11.7755102 , 12.67346939, 13.57142857,\n",
       "       14.46938776, 15.36734694, 16.26530612, 17.16326531, 18.06122449,\n",
       "       18.95918367, 19.85714286, 20.75510204, 21.65306122, 22.55102041,\n",
       "       23.44897959, 24.34693878, 25.24489796, 26.14285714, 27.04081633,\n",
       "       27.93877551, 28.83673469, 29.73469388, 30.63265306, 31.53061224,\n",
       "       32.42857143, 33.32653061, 34.2244898 , 35.12244898, 36.02040816,\n",
       "       36.91836735, 37.81632653, 38.71428571, 39.6122449 , 40.51020408,\n",
       "       41.40816327, 42.30612245, 43.20408163, 44.10204082, 45.        ])"
      ]
     },
     "execution_count": 27,
     "metadata": {},
     "output_type": "execute_result"
    }
   ],
   "source": [
    "np.linspace(1,45,50)"
   ]
  },
  {
   "cell_type": "code",
   "execution_count": 28,
   "id": "8ebf2ec5",
   "metadata": {},
   "outputs": [
    {
     "data": {
      "text/plain": [
       "array([  1,   2,   3, 100, 100])"
      ]
     },
     "execution_count": 28,
     "metadata": {},
     "output_type": "execute_result"
    }
   ],
   "source": [
    "arr"
   ]
  },
  {
   "cell_type": "code",
   "execution_count": 32,
   "id": "bfe7bcb6",
   "metadata": {},
   "outputs": [],
   "source": [
    "arr3=arr"
   ]
  },
  {
   "cell_type": "code",
   "execution_count": 34,
   "id": "d3a5e0f4",
   "metadata": {},
   "outputs": [
    {
     "name": "stdout",
     "output_type": "stream",
     "text": [
      "[  1   2   3 555 555]\n"
     ]
    }
   ],
   "source": [
    "arr3[3:]=555\n",
    "print(arr3)"
   ]
  },
  {
   "cell_type": "code",
   "execution_count": 35,
   "id": "3906a021",
   "metadata": {},
   "outputs": [
    {
     "name": "stdout",
     "output_type": "stream",
     "text": [
      "[  1   2   3 555 555]\n",
      "[  1   2   3 555 555]\n"
     ]
    }
   ],
   "source": [
    "print(arr)\n",
    "arr3[3:]=555\n",
    "print(arr3)"
   ]
  },
  {
   "cell_type": "code",
   "execution_count": 38,
   "id": "90f9b252",
   "metadata": {},
   "outputs": [
    {
     "data": {
      "text/plain": [
       "array([  1,   2,   3, 555, 555])"
      ]
     },
     "execution_count": 38,
     "metadata": {},
     "output_type": "execute_result"
    }
   ],
   "source": [
    "arr"
   ]
  },
  {
   "cell_type": "code",
   "execution_count": 43,
   "id": "0e6d8d9c",
   "metadata": {},
   "outputs": [
    {
     "data": {
      "text/plain": [
       "array([1, 2, 3])"
      ]
     },
     "execution_count": 43,
     "metadata": {},
     "output_type": "execute_result"
    }
   ],
   "source": [
    "#conditions that are very useful for EDA\n",
    "val=4\n",
    "arr[arr<4]"
   ]
  },
  {
   "cell_type": "code",
   "execution_count": 44,
   "id": "5fb344f7",
   "metadata": {},
   "outputs": [
    {
     "data": {
      "text/plain": [
       "array([[ 0,  1,  2,  3,  4],\n",
       "       [ 5,  6,  7,  8,  9],\n",
       "       [10, 11, 12, 13, 14],\n",
       "       [15, 16, 17, 18, 19]])"
      ]
     },
     "execution_count": 44,
     "metadata": {},
     "output_type": "execute_result"
    }
   ],
   "source": [
    "#create arrays and reshape\n",
    "np.arange(0,20).reshape(4,5)"
   ]
  },
  {
   "cell_type": "code",
   "execution_count": 48,
   "id": "97deaf4d",
   "metadata": {},
   "outputs": [
    {
     "data": {
      "text/plain": [
       "array([1., 1., 1., 1., 1.])"
      ]
     },
     "execution_count": 48,
     "metadata": {},
     "output_type": "execute_result"
    }
   ],
   "source": [
    "np.ones(5, dtype=float)"
   ]
  },
  {
   "cell_type": "code",
   "execution_count": 49,
   "id": "e629d230",
   "metadata": {},
   "outputs": [
    {
     "data": {
      "text/plain": [
       "array([[1, 1, 1, 1],\n",
       "       [1, 1, 1, 1]])"
      ]
     },
     "execution_count": 49,
     "metadata": {},
     "output_type": "execute_result"
    }
   ],
   "source": [
    "np.ones((2,4), dtype=int)"
   ]
  },
  {
   "cell_type": "markdown",
   "id": "a974014b",
   "metadata": {},
   "source": [
    "## Random Distribution"
   ]
  },
  {
   "cell_type": "code",
   "execution_count": 54,
   "id": "81c910ee",
   "metadata": {},
   "outputs": [
    {
     "data": {
      "text/plain": [
       "array([[0.288509  , 0.32586518, 0.64866884, 0.54867156, 0.07419678,\n",
       "        0.50393373, 0.06917038, 0.59430604, 0.17335125, 0.63634455,\n",
       "        0.94470363, 0.09306762, 0.68008259, 0.05526364, 0.65930723,\n",
       "        0.60842015, 0.27590841, 0.76209559, 0.49794717, 0.78028789,\n",
       "        0.62937305, 0.64299391, 0.03450611, 0.11327057, 0.94319854,\n",
       "        0.75950805, 0.50265255, 0.91862472, 0.81406474, 0.05269097,\n",
       "        0.90013845, 0.56418969, 0.643106  , 0.56644393, 0.4682378 ,\n",
       "        0.56764717, 0.88959271, 0.7344262 , 0.86533383, 0.88485612],\n",
       "       [0.65840362, 0.26401097, 0.88184086, 0.48694963, 0.44021198,\n",
       "        0.51521562, 0.18962648, 0.70205518, 0.85001742, 0.47884612,\n",
       "        0.17419432, 0.75264511, 0.03809818, 0.20267909, 0.94754231,\n",
       "        0.73226156, 0.37591989, 0.65083432, 0.89628636, 0.47923108,\n",
       "        0.78083995, 0.31876377, 0.43791047, 0.3445472 , 0.40104136,\n",
       "        0.65100047, 0.104345  , 0.84774573, 0.25453144, 0.1763558 ,\n",
       "        0.5280635 , 0.11565677, 0.62585161, 0.85172544, 0.61265861,\n",
       "        0.46066271, 0.98676954, 0.10916487, 0.52701257, 0.88574892],\n",
       "       [0.42738238, 0.0213236 , 0.32729595, 0.01950299, 0.89235335,\n",
       "        0.55457615, 0.69981766, 0.59736419, 0.87012844, 0.62950056,\n",
       "        0.04321533, 0.00401008, 0.60697028, 0.37711754, 0.40474004,\n",
       "        0.59759271, 0.39058715, 0.54164769, 0.80625981, 0.72005979,\n",
       "        0.00692199, 0.95144655, 0.03557981, 0.5740269 , 0.65722483,\n",
       "        0.49850783, 0.99302384, 0.14359975, 0.77611545, 0.2243889 ,\n",
       "        0.70753861, 0.55036332, 0.28221112, 0.64897352, 0.37842525,\n",
       "        0.67827745, 0.4286384 , 0.44345414, 0.50230674, 0.48627013],\n",
       "       [0.9459875 , 0.47289258, 0.83785489, 0.68670079, 0.77537492,\n",
       "        0.82406326, 0.3841024 , 0.1004352 , 0.58384299, 0.03447971,\n",
       "        0.19617009, 0.4862844 , 0.58520479, 0.4068751 , 0.93381966,\n",
       "        0.19336881, 0.92096164, 0.23042838, 0.70212589, 0.45145545,\n",
       "        0.47411326, 0.31561876, 0.13195726, 0.42448435, 0.35536226,\n",
       "        0.81898043, 0.20440579, 0.62558822, 0.26590951, 0.25160362,\n",
       "        0.57995163, 0.45313969, 0.68266932, 0.51471434, 0.90992427,\n",
       "        0.46091992, 0.11001312, 0.64897915, 0.38104542, 0.70707256]])"
      ]
     },
     "execution_count": 54,
     "metadata": {},
     "output_type": "execute_result"
    }
   ],
   "source": [
    "np.random.rand(4,40)# Store random values in a given shape"
   ]
  },
  {
   "cell_type": "code",
   "execution_count": 56,
   "id": "49eb63c2",
   "metadata": {},
   "outputs": [
    {
     "data": {
      "text/plain": [
       "array([[43,  6, 82,  0],\n",
       "       [95, 85, 14, 34]], dtype=int32)"
      ]
     },
     "execution_count": 56,
     "metadata": {},
     "output_type": "execute_result"
    }
   ],
   "source": [
    "np.random.randint(0,100,8).reshape(2,4)"
   ]
  },
  {
   "cell_type": "code",
   "execution_count": 58,
   "id": "626a3a40",
   "metadata": {},
   "outputs": [
    {
     "data": {
      "text/plain": [
       "array([[0.51240569, 0.0489044 , 0.32118063, 0.5829602 , 0.69255679]])"
      ]
     },
     "execution_count": 58,
     "metadata": {},
     "output_type": "execute_result"
    }
   ],
   "source": [
    "np.random.random_sample((1,5))"
   ]
  },
  {
   "cell_type": "code",
   "execution_count": null,
   "id": "b692ea22",
   "metadata": {},
   "outputs": [],
   "source": []
  }
 ],
 "metadata": {
  "kernelspec": {
   "display_name": "base",
   "language": "python",
   "name": "python3"
  },
  "language_info": {
   "codemirror_mode": {
    "name": "ipython",
    "version": 3
   },
   "file_extension": ".py",
   "mimetype": "text/x-python",
   "name": "python",
   "nbconvert_exporter": "python",
   "pygments_lexer": "ipython3",
   "version": "3.13.5"
  }
 },
 "nbformat": 4,
 "nbformat_minor": 5
}
