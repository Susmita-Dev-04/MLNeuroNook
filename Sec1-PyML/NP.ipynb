{
 "cells": [
  {
   "cell_type": "markdown",
   "id": "6c62a201",
   "metadata": {},
   "source": [
    "## Numpy Tutorials\n",
    "NumPy is a general-purpose array-processing package. It provides a high-performance multidimensional array object, and tools for working with these arrays. It is the fundamental package for scientific computing with Python\n",
    "\n",
    "## What is an array\n",
    "An array is a data structure that stores values of same data type. In Python, this is the main difference between arrays and lists. While python lists can contain values corresponding to different data types, arrays in python can only contain values corresponding to same data type\n",
    "\n",
    "## Features\n",
    "- Faster than Python lists for numerical operations\n",
    "\n",
    "- Supports multidimensional arrays\n",
    "\n",
    "- Provides mathematical, statistical, and linear algebra functions\n",
    "\n",
    "- Works well with other libraries like Pandas, Matplotlib, and Scikit-learn"
   ]
  },
  {
   "cell_type": "markdown",
   "id": "40ed453e",
   "metadata": {},
   "source": [
    "| Function                | Description                                  | Example                      |\n",
    "| ----------------------- | -------------------------------------------- | ---------------------------- |\n",
    "| `np.array()`            | Create a NumPy array                         | `np.array([1, 2, 3])`        |\n",
    "| `np.zeros()`            | Create an array filled with zeros            | `np.zeros((3,3))`            |\n",
    "| `np.ones()`             | Create an array filled with ones             | `np.ones((2,4))`             |\n",
    "| `np.arange()`           | Create array with evenly spaced values       | `np.arange(0, 10, 2)`        |\n",
    "| `np.linspace()`         | Create evenly spaced numbers between a range | `np.linspace(1, 5, 10)`      |\n",
    "| `np.reshape()`          | Change shape of array                        | `arr.reshape(2,3)`           |\n",
    "| `np.sum()`              | Sum of elements                              | `np.sum(arr)`                |\n",
    "| `np.mean()`             | Mean value                                   | `np.mean(arr)`               |\n",
    "| `np.max()` / `np.min()` | Maximum & Minimum value                      | `np.max(arr)`, `np.min(arr)` |\n",
    "| `np.dot()`              | Dot product of two arrays                    | `np.dot(a, b)`               |\n"
   ]
  },
  {
   "cell_type": "code",
   "execution_count": null,
   "id": "cec5b2cc",
   "metadata": {},
   "outputs": [
    {
     "name": "stdout",
     "output_type": "stream",
     "text": [
      "Array: [1 2 3 4 5]\n",
      "Zeros Array:\n",
      " [[0. 0. 0.]\n",
      " [0. 0. 0.]]\n",
      "Ones Array:\n",
      " [[1. 1. 1.]\n",
      " [1. 1. 1.]]\n",
      "Range Array: [0 2 4 6 8]\n",
      "Reshaped Array:\n",
      " [[1 2 3]\n",
      " [4 5 6]]\n"
     ]
    }
   ],
   "source": [
    "import numpy as np\n",
    "\n",
    "# Creating NumPy array\n",
    "arr = np.array([1, 2, 3, 4, 5])\n",
    "print(\"Array:\", arr)\n",
    "\n",
    "# Array of zeros\n",
    "zeros_arr = np.zeros((2, 3)) # 2-rows, 3-cols\n",
    "print(\"Zeros Array:\\n\", zeros_arr)\n",
    "\n",
    "# Array of ones\n",
    "ones_arr = np.ones((2, 3))\n",
    "print(\"Ones Array:\\n\", ones_arr)\n",
    "\n",
    "# Range of numbers\n",
    "range_arr = np.arange(0, 10, 2)\n",
    "print(\"Range Array:\", range_arr)\n",
    "\n",
    "# Reshaping array\n",
    "reshaped = np.arange(1, 7).reshape(2, 3)\n",
    "print(\"Reshaped Array:\\n\", reshaped)\n"
   ]
  },
  {
   "cell_type": "code",
   "execution_count": null,
   "id": "129eac11",
   "metadata": {},
   "outputs": [
    {
     "name": "stdout",
     "output_type": "stream",
     "text": [
      "Sum: 150\n",
      "Mean: 30.0\n",
      "Max: 50\n",
      "Min: 10\n",
      "Standard Deviation: 14.142135623730951\n",
      "Linspace: [0.   0.25 0.5  0.75 1.  ]\n",
      "Dot Product:\n",
      " [[19 22]\n",
      " [43 50]]\n"
     ]
    }
   ],
   "source": [
    "import numpy as np\n",
    "\n",
    "data = np.array([10, 20, 30, 40, 50])\n",
    "\n",
    "print(\"Sum:\", np.sum(data))\n",
    "print(\"Mean:\", np.mean(data))\n",
    "print(\"Max:\", np.max(data))\n",
    "print(\"Min:\", np.min(data))\n",
    "print(\"Standard Deviation:\", np.std(data))\n",
    "\n",
    "# Using linspace\n",
    "print(\"Linspace:\", np.linspace(0, 1, 5)) # start point, End Point, No.s\n",
    "\n",
    "# Matrix multiplication\n",
    "a = np.array([[1, 2], [3, 4]])\n",
    "b = np.array([[5, 6], [7, 8]])\n",
    "print(\"Dot Product:\\n\", np.dot(a, b))\n"
   ]
  },
  {
   "cell_type": "code",
   "execution_count": null,
   "id": "251befc7",
   "metadata": {},
   "outputs": [],
   "source": []
  }
 ],
 "metadata": {
  "kernelspec": {
   "display_name": "base",
   "language": "python",
   "name": "python3"
  },
  "language_info": {
   "codemirror_mode": {
    "name": "ipython",
    "version": 3
   },
   "file_extension": ".py",
   "mimetype": "text/x-python",
   "name": "python",
   "nbconvert_exporter": "python",
   "pygments_lexer": "ipython3",
   "version": "3.13.5"
  }
 },
 "nbformat": 4,
 "nbformat_minor": 5
}
